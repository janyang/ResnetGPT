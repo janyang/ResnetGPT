{
 "metadata": {
  "language_info": {
   "codemirror_mode": {
    "name": "ipython",
    "version": 3
   },
   "file_extension": ".py",
   "mimetype": "text/x-python",
   "name": "python",
   "nbconvert_exporter": "python",
   "pygments_lexer": "ipython3",
   "version": "3.9.1-final"
  },
  "orig_nbformat": 2,
  "kernelspec": {
   "name": "python3",
   "display_name": "Python 3.9.1 64-bit",
   "metadata": {
    "interpreter": {
     "hash": "dc12a9f60ee6dbe660fc3a6198eaca6bfcf606b72d3a65bf7d065b0c5c4ad64b"
    }
   }
  }
 },
 "nbformat": 4,
 "nbformat_minor": 2,
 "cells": [
  {
   "cell_type": "code",
   "execution_count": 29,
   "metadata": {},
   "outputs": [
    {
     "output_type": "stream",
     "name": "stderr",
     "text": [
      "2021-01-26 20:53:18.312 | INFO     | pyminitouch.utils:is_device_connected:56 - device Redmi K30 online\n",
      "2021-01-26 20:53:18.315 | INFO     | pyminitouch.connection:__init__:87 - searching a usable port ...\n",
      "2021-01-26 20:53:20.320 | INFO     | pyminitouch.connection:__init__:89 - device 26c1a0ad bind to port 20776\n",
      "2021-01-26 20:53:20.560 | INFO     | pyminitouch.connection:get_abi:35 - device 26c1a0ad is arm64-v8a\n",
      "2021-01-26 20:53:20.752 | INFO     | pyminitouch.connection:__init__:27 - minitouch already existed in 26c1a0ad\n",
      "2021-01-26 20:53:20.754 | DEBUG    | pyminitouch.connection:_forward_port:128 - forward command: adb -s 26c1a0ad forward tcp:20776 localabstract:minitouch\n",
      "2021-01-26 20:53:20.937 | DEBUG    | pyminitouch.connection:_forward_port:130 - output: b'20776\\r\\n'\n",
      "2021-01-26 20:53:20.940 | INFO     | pyminitouch.connection:_start_mnt:141 - start minitouch: adb -s 26c1a0ad shell /data/local/tmp/minitouch\n",
      "2021-01-26 20:53:21.957 | INFO     | pyminitouch.connection:__init__:183 - minitouch running on port: 20776, pid: 16212\n",
      "2021-01-26 20:53:21.959 | INFO     | pyminitouch.connection:__init__:186 - max_contact: 10; max_x: 1080; max_y: 2400; max_pressure: 0\n",
      "2021-01-26 20:53:21.963 | INFO     | pyminitouch.actions:publish:63 - send operation: d 0 278 467 100\\nc\\nu 0\\nc\\n\n",
      "2021-01-26 20:53:22.016 | INFO     | pyminitouch.connection:disconnect:195 - minitouch disconnected\n",
      "2021-01-26 20:53:22.020 | INFO     | pyminitouch.connection:stop:108 - device 26c1a0ad unbind to 20776\n"
     ]
    }
   ],
   "source": [
    "from pyminitouch import safe_connection, safe_device, MNTDevice, CommandBuilder\n",
    "\n",
    "_DEVICE_ID = \"26c1a0ad\"\n",
    "\n",
    "device = MNTDevice(_DEVICE_ID)\n",
    "device.tap([(278, 467)], pressure=100)\n",
    "device.stop()"
   ]
  },
  {
   "cell_type": "code",
   "execution_count": 16,
   "metadata": {},
   "outputs": [
    {
     "output_type": "execute_result",
     "data": {
      "text/plain": [
       "'Hello'"
      ]
     },
     "metadata": {},
     "execution_count": 16
    }
   ],
   "source": [
    "a = \"Hello\"\n",
    "f\"{a}\""
   ]
  },
  {
   "cell_type": "code",
   "execution_count": 17,
   "metadata": {},
   "outputs": [
    {
     "output_type": "error",
     "ename": "NameError",
     "evalue": "name '__file__' is not defined",
     "traceback": [
      "\u001b[1;31m---------------------------------------------------------------------------\u001b[0m",
      "\u001b[1;31mNameError\u001b[0m                                 Traceback (most recent call last)",
      "\u001b[1;32m<ipython-input-17-2347d99e0517>\u001b[0m in \u001b[0;36m<module>\u001b[1;34m\u001b[0m\n\u001b[0;32m      1\u001b[0m \u001b[1;32mimport\u001b[0m \u001b[0mos\u001b[0m\u001b[1;33m,\u001b[0m\u001b[0msys\u001b[0m\u001b[1;33m\u001b[0m\u001b[1;33m\u001b[0m\u001b[0m\n\u001b[1;32m----> 2\u001b[1;33m \u001b[0mos\u001b[0m\u001b[1;33m.\u001b[0m\u001b[0mpath\u001b[0m\u001b[1;33m.\u001b[0m\u001b[0mdirname\u001b[0m\u001b[1;33m(\u001b[0m\u001b[0mos\u001b[0m\u001b[1;33m.\u001b[0m\u001b[0mpath\u001b[0m\u001b[1;33m.\u001b[0m\u001b[0mabspath\u001b[0m\u001b[1;33m(\u001b[0m\u001b[0m__file__\u001b[0m\u001b[1;33m)\u001b[0m\u001b[1;33m)\u001b[0m\u001b[1;33m\u001b[0m\u001b[1;33m\u001b[0m\u001b[0m\n\u001b[0m",
      "\u001b[1;31mNameError\u001b[0m: name '__file__' is not defined"
     ]
    }
   ],
   "source": [
    "import os,sys\n",
    "os.path.dirname(os.path.abspath(__file__))"
   ]
  },
  {
   "source": [
    "f\"%{{a}%}\""
   ],
   "cell_type": "code",
   "metadata": {},
   "execution_count": 22,
   "outputs": [
    {
     "output_type": "error",
     "ename": "SyntaxError",
     "evalue": "f-string: single '}' is not allowed (<ipython-input-22-ae465d4e762e>, line 1)",
     "traceback": [
      "\u001b[1;36m  File \u001b[1;32m\"<ipython-input-22-ae465d4e762e>\"\u001b[1;36m, line \u001b[1;32m1\u001b[0m\n\u001b[1;33m    f\"%{{a}%}\"\u001b[0m\n\u001b[1;37m              ^\u001b[0m\n\u001b[1;31mSyntaxError\u001b[0m\u001b[1;31m:\u001b[0m f-string: single '}' is not allowed\n"
     ]
    }
   ]
  },
  {
   "source": [
    "f\"\\\"\""
   ],
   "cell_type": "code",
   "metadata": {},
   "execution_count": 23,
   "outputs": [
    {
     "output_type": "execute_result",
     "data": {
      "text/plain": [
       "'\"'"
      ]
     },
     "metadata": {},
     "execution_count": 23
    }
   ]
  },
  {
   "cell_type": "code",
   "execution_count": 26,
   "metadata": {},
   "outputs": [
    {
     "output_type": "stream",
     "name": "stdout",
     "text": [
      "{ } {}\n"
     ]
    }
   ],
   "source": [
    "print(f\"{{\", f\"}}\", f\"{{}}\")"
   ]
  }
 ]
}